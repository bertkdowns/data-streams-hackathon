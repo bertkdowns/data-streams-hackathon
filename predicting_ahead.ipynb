{
 "cells": [
  {
   "cell_type": "markdown",
   "metadata": {},
   "source": [
    "# Predicting Ahead\n",
    "This offsets the data by 24 hours, and adds an additional column for the 24 hours ahead time.\n"
   ]
  },
  {
   "cell_type": "code",
   "execution_count": 3,
   "metadata": {},
   "outputs": [],
   "source": [
    "from capymoa.regressor import KNNRegressor, AdaptiveRandomForestRegressor\n",
    "from capymoa.stream._stream import NumpyStream\n",
    "from capymoa.evaluation import prequential_evaluation\n",
    "from capymoa.evaluation.visualization import plot_windowed_results\n",
    "import numpy as np\n",
    "import pandas as pd\n",
    "from pathlib import Path\n",
    "from pprint import pprint  # Import pprint module\n",
    "\n",
    "path_to_csv = Path(\"../power_plant/MHPA-docs-data.csv\")\n",
    "data = pd.read_csv(path_to_csv).fillna(0)  #.to_numpy()\n",
    "\n",
    "\n",
    "# remove slrmj_tot, recnum, tmstamp from x_features, so they are not used as features\n",
    "\n",
    "data = data.drop(columns=[\"RecNum\", \"TmStamp\", \"SlrMJ_Tot\", \"in_bytes_str\"])\n",
    "\n",
    "# The target variable is slrw_avg column, but offset 24 hours (we are predicting in the future)\n",
    "# column 12 is slrw_avg, so we want to predict column 12, but offset 24 hours. One row is 1 minute, so 24 hours is 1440 rows\n",
    "# this will decrease the dataset size by 1440 rows\n",
    "targets = data[\"SlrW_Avg\"].iloc[1440:].to_numpy()\n",
    "x_features = data[:-1440].to_numpy()\n",
    "\n",
    "\n",
    "\n",
    "\n",
    "stream = NumpyStream(\n",
    "    x_features,\n",
    "    targets,\n",
    "    target_type=\"numeric\", # \"numeric\" or \"categorical\", we are doing regression\n",
    "    feature_names=[\"batt_volt\", \"mean_wind_speed\", \"mean_wind_direction\", \"std_wind_dir\", \"Max_Gust_Min\", \"Max_Gust_Hr\",\"Rain_mm\",\"Barametric_Avg\",\"Air_Temp_Avg\",\"RH_Avg\",\"SlrW_avg\",\"Dew_Point_Avg\"],\n",
    ")\n",
    "schema = stream.get_schema()"
   ]
  },
  {
   "cell_type": "code",
   "execution_count": 9,
   "metadata": {},
   "outputs": [],
   "source": [
    "# Define the models to test\n",
    "import regressors\n",
    "from capymoa.regressor import SOKNLBT, SGDRegressor, PassiveAggressiveRegressor, ORTO, ARFFIMTDD, AdaptiveRandomForestRegressor, FIMTDD\n",
    "\n",
    "models = [\n",
    "    regressors.GaussianRandomRegressor(schema=schema),\n",
    "    regressors.LastGuessRegressor(schema=schema),\n",
    "    PassiveAggressiveRegressor(schema),\n",
    "    AdaptiveRandomForestRegressor(schema),\n",
    "    FIMTDD(schema),\n",
    "]"
   ]
  },
  {
   "cell_type": "code",
   "execution_count": 10,
   "metadata": {},
   "outputs": [
    {
     "name": "stdout",
     "output_type": "stream",
     "text": [
      "Running GaussianRandomRegressor\n",
      "Done in 21.841640799999993 secs\n",
      "Running LastGuessRegressor\n",
      "Done in 20.696883100000008 secs\n",
      "Running PassiveAggressiveRegressor\n"
     ]
    },
    {
     "name": "stderr",
     "output_type": "stream",
     "text": [
      "/home/bert/miniconda3/lib/python3.11/site-packages/capymoa/evaluation/evaluation.py:268: UserWarning: The learner did not produce a prediction for this instance\n",
      "  warnings.warn(\"The learner did not produce a prediction for this instance\")\n"
     ]
    }
   ],
   "source": [
    "import seaborn as sns\n",
    "import matplotlib.pyplot as plt\n",
    "\n",
    "# Run all tests\n",
    "\n",
    "results = []\n",
    "\n",
    "for learner in models:\n",
    "    print(f\"Running {learner}\")\n",
    "    result = prequential_evaluation(stream=stream, learner=learner, window_size=5000)\n",
    "    print(f\"Done in {result['cpu_time']} secs\")\n",
    "    sns.lineplot(result['windowed'].metrics_per_window()[\"mean absolute error\"], label=learner.__str__())\n",
    "    results.append(result)\n",
    "\n",
    "plt.show()\n"
   ]
  },
  {
   "cell_type": "code",
   "execution_count": null,
   "metadata": {},
   "outputs": [],
   "source": [
    "for learner, result in zip(models, results):\n",
    "    sns.lineplot(result['windowed'].metrics_per_window()[\"relative mean absolute error\"], label=learner.__str__())\n",
    "\n",
    "plt.show()\n",
    "\n",
    "for learner, result in zip(models, results):\n",
    "    sns.lineplot(result['windowed'].metrics_per_window()[\"relative mean squared error\"], label=learner.__str__())\n",
    "\n",
    "plt.show()"
   ]
  }
 ],
 "metadata": {
  "kernelspec": {
   "display_name": "base",
   "language": "python",
   "name": "python3"
  },
  "language_info": {
   "codemirror_mode": {
    "name": "ipython",
    "version": 3
   },
   "file_extension": ".py",
   "mimetype": "text/x-python",
   "name": "python",
   "nbconvert_exporter": "python",
   "pygments_lexer": "ipython3",
   "version": "3.11.5"
  }
 },
 "nbformat": 4,
 "nbformat_minor": 2
}
