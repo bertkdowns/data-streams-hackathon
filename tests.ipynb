{
 "cells": [
  {
   "cell_type": "markdown",
   "metadata": {},
   "source": [
    "# Tests comparing models using capymoa\n",
    "\n",
    "## Installation:\n",
    "See https://capymoa.org/\n",
    "\n",
    "\n",
    "```\n",
    "# CapyMOA requires Java. This checks if you have it installed\n",
    "java -version\n",
    "\n",
    "# Install java on ubuntu with sudo apt install openjdk-default\n",
    "\n",
    "# CapyMOA requires PyTorch. This installs the CPU version\n",
    "pip install torch torchvision --index-url https://download.pytorch.org/whl/cpu\n",
    "\n",
    "# Install CapyMOA and its dependencies\n",
    "pip install capymoa\n",
    "\n",
    "# Check that the install worked\n",
    "python -c \"import capymoa; print(capymoa.__version__)\"\n",
    "```"
   ]
  },
  {
   "cell_type": "markdown",
   "metadata": {},
   "source": [
    "Import Modules"
   ]
  },
  {
   "cell_type": "code",
   "execution_count": null,
   "metadata": {},
   "outputs": [],
   "source": [
    "from capymoa.regressor import KNNRegressor, AdaptiveRandomForestRegressor\n",
    "from capymoa.stream._stream import NumpyStream\n",
    "from capymoa.evaluation import prequential_evaluation\n",
    "from capymoa.evaluation.visualization import plot_windowed_results\n",
    "import numpy as np\n",
    "import pandas as pd\n",
    "from pathlib import Path\n",
    "from pprint import pprint  # Import pprint module"
   ]
  },
  {
   "cell_type": "markdown",
   "metadata": {},
   "source": [
    "Load the Data:\n",
    "\n",
    "\n"
   ]
  },
  {
   "cell_type": "code",
   "execution_count": null,
   "metadata": {},
   "outputs": [],
   "source": [
    "path_to_csv = Path(\"/home/bd65/Downloads/power_plant/MHPA-docs-data.csv\")\n",
    "x_features = pd.read_csv(path_to_csv).fillna(0).to_numpy()"
   ]
  },
  {
   "cell_type": "markdown",
   "metadata": {},
   "source": [
    "There are the following columns:\n",
    "```\n",
    "0       1       2        3                4                     5           6           7   \n",
    "TmStamp,RecNum,batt_volt,mean_wind_speed,mean_wind_direction,std_wind_dir,Max_Gust_Min,Max_Gust_Hr,\n",
    "\n",
    "8        9              10            11       12     13        14              15\n",
    "Rain_mm,Barametric_Avg,Air_Temp_Avg,RH_Avg,SlrW_Avg,SlrMJ_Tot,in_bytes_str,Dew_Point_Avg\n",
    "```\n",
    "\n",
    "\n",
    "- `TmStamp` is a timestamp, and may be helpful for training (if the model can learn the seasons from it or something)\n",
    "- `RecNum` is basically the same as timestamp, but it gets reset to zero sometimes\n",
    "- `SlrW_Avg` is the column we are trying to predict\n",
    "- `SlrMJ_Tot` is the same as SlrW_Avg, so it needs to be removed from the data\n",
    "- `in_bytes_str` seems to have some metadata, it's a string e.g `\"Q,116,002.68,M,00,_x0003_14\"` . For now we can try by just removing it\n",
    "\n"
   ]
  },
  {
   "cell_type": "code",
   "execution_count": null,
   "metadata": {},
   "outputs": [],
   "source": [
    "# Seperate out the target variable (what we are trying to predict)\n",
    "class_index: int = 12,  # slrw_avg\n",
    "targets = x_features[:, class_index]\n",
    "\n",
    "# remove slrw_avg, slrmj_tot, recnum, tmstamp from x_features, so they are not used as features\n",
    "\n",
    "x_features = np.delete(x_features, -2, axis=1) # remove in_bytes_str\n",
    "x_features = np.delete(x_features, class_index, axis=1) # remove slrw_avg\n",
    "x_features = np.delete(x_features, class_index, axis=1) # remove slrmj_tot\n",
    "x_features = np.delete(x_features, 0, axis=1) # remove recnum\n",
    "x_features = np.delete(x_features, 0, axis=1) # remove tmstamp"
   ]
  },
  {
   "cell_type": "markdown",
   "metadata": {},
   "source": [
    "Now we can create a CapyMoa stream from the data"
   ]
  },
  {
   "cell_type": "code",
   "execution_count": null,
   "metadata": {},
   "outputs": [],
   "source": [
    "stream = NumpyStream(\n",
    "    x_features,\n",
    "    targets,\n",
    "    target_type=target_type,\n",
    "    feature_names=[\"batt_volt\", \"mean_wind_speed\", \"mean_wind_direction\", \"std_wind_dir\", \"Max_Gust_Min\", \"Max_Gust_Hr\",\"Rain_mm\",\"Barametric_Avg\",\"Air_Temp_Avg\",\"RH_Avg\",\"Dew_Point_Avg\"],\n",
    ")"
   ]
  },
  {
   "cell_type": "markdown",
   "metadata": {},
   "source": [
    "Create some learner models to test"
   ]
  },
  {
   "cell_type": "code",
   "execution_count": null,
   "metadata": {},
   "outputs": [],
   "source": [
    "ARF_learner = AdaptiveRandomForestRegressor(schema=stream.get_schema(), ensemble_size=10)\n",
    "knnreg = KNNRegressor(schema=stream.get_schema(), k=3, window_size=1000)"
   ]
  },
  {
   "cell_type": "markdown",
   "metadata": {},
   "source": [
    "Evaluate with prequential evaluation"
   ]
  },
  {
   "cell_type": "code",
   "execution_count": null,
   "metadata": {},
   "outputs": [],
   "source": [
    "results_arf = prequential_evaluation(stream=stream, learner=ARF_learner, window_size=5000)"
   ]
  },
  {
   "cell_type": "markdown",
   "metadata": {},
   "source": [
    "Print the results"
   ]
  },
  {
   "cell_type": "code",
   "execution_count": null,
   "metadata": {},
   "outputs": [],
   "source": [
    "pprint(results_arf['windowed'].metrics_per_window())\n",
    "pprint(results_arf)"
   ]
  }
 ],
 "metadata": {
  "language_info": {
   "name": "python"
  }
 },
 "nbformat": 4,
 "nbformat_minor": 2
}
